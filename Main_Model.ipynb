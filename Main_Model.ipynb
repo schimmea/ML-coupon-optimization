{
 "cells": [
  {
   "cell_type": "code",
   "execution_count": 1,
   "metadata": {
    "ExecuteTime": {
     "end_time": "2021-03-21T15:09:22.875952Z",
     "start_time": "2021-03-21T15:09:22.371118Z"
    }
   },
   "outputs": [],
   "source": [
    "import pandas as pd\n",
    "import numpy as np\n",
    "from tqdm.notebook import tqdm\n",
    "import pickle\n",
    "import h5py"
   ]
  },
  {
   "cell_type": "code",
   "execution_count": 2,
   "metadata": {
    "ExecuteTime": {
     "end_time": "2021-03-21T12:29:13.632432Z",
     "start_time": "2021-03-21T12:29:09.900029Z"
    }
   },
   "outputs": [],
   "source": [
    "import tensorflow as tf\n",
    "#tf.config.set_visible_devices([], 'GPU')\n",
    "from tensorflow.keras.layers import Conv1D, Dense, LeakyReLU, concatenate, Input, Permute\n",
    "from tensorflow.keras.models import Model\n",
    "from tensorflow.keras.losses import BinaryCrossentropy\n",
    "from tensorflow.keras.callbacks import EarlyStopping\n",
    "from tensorflow.keras.metrics import AUC\n",
    "from tensorflow.keras.models import load_model"
   ]
  },
  {
   "cell_type": "code",
   "execution_count": 3,
   "metadata": {
    "ExecuteTime": {
     "end_time": "2021-03-21T12:29:13.999433Z",
     "start_time": "2021-03-21T12:29:13.665436Z"
    }
   },
   "outputs": [],
   "source": [
    "from sklearn.metrics import roc_auc_score\n",
    "from sklearn.metrics import log_loss\n",
    "from sklearn.metrics import average_precision_score\n",
    "from sklearn.manifold import TSNE\n",
    "from sklearn.cluster import KMeans"
   ]
  },
  {
   "cell_type": "code",
   "execution_count": 4,
   "metadata": {
    "ExecuteTime": {
     "end_time": "2021-03-21T12:29:14.509432Z",
     "start_time": "2021-03-21T12:29:14.031435Z"
    }
   },
   "outputs": [],
   "source": [
    "import matplotlib.pyplot as plt\n",
    "import seaborn as sns"
   ]
  },
  {
   "cell_type": "code",
   "execution_count": 5,
   "metadata": {
    "ExecuteTime": {
     "end_time": "2021-03-21T12:29:15.287165Z",
     "start_time": "2021-03-21T12:29:15.261167Z"
    }
   },
   "outputs": [],
   "source": [
    "%run util\n",
    "%run main_model\n",
    "%run elasticity_funcs"
   ]
  },
  {
   "cell_type": "markdown",
   "metadata": {},
   "source": [
    "# Load Data"
   ]
  },
  {
   "cell_type": "code",
   "execution_count": 4,
   "metadata": {
    "ExecuteTime": {
     "end_time": "2021-03-21T01:48:52.924114Z",
     "start_time": "2021-03-21T01:48:36.619748Z"
    }
   },
   "outputs": [
    {
     "data": {
      "text/html": [
       "<div>\n",
       "<style scoped>\n",
       "    .dataframe tbody tr th:only-of-type {\n",
       "        vertical-align: middle;\n",
       "    }\n",
       "\n",
       "    .dataframe tbody tr th {\n",
       "        vertical-align: top;\n",
       "    }\n",
       "\n",
       "    .dataframe thead th {\n",
       "        text-align: right;\n",
       "    }\n",
       "</style>\n",
       "<table border=\"1\" class=\"dataframe\">\n",
       "  <thead>\n",
       "    <tr style=\"text-align: right;\">\n",
       "      <th></th>\n",
       "      <th>week</th>\n",
       "      <th>shopper</th>\n",
       "      <th>product</th>\n",
       "      <th>price</th>\n",
       "      <th>bought</th>\n",
       "    </tr>\n",
       "  </thead>\n",
       "  <tbody>\n",
       "    <tr>\n",
       "      <th>0</th>\n",
       "      <td>0</td>\n",
       "      <td>0</td>\n",
       "      <td>71</td>\n",
       "      <td>629</td>\n",
       "      <td>1</td>\n",
       "    </tr>\n",
       "    <tr>\n",
       "      <th>1</th>\n",
       "      <td>0</td>\n",
       "      <td>0</td>\n",
       "      <td>91</td>\n",
       "      <td>605</td>\n",
       "      <td>1</td>\n",
       "    </tr>\n",
       "    <tr>\n",
       "      <th>2</th>\n",
       "      <td>0</td>\n",
       "      <td>0</td>\n",
       "      <td>116</td>\n",
       "      <td>715</td>\n",
       "      <td>1</td>\n",
       "    </tr>\n",
       "    <tr>\n",
       "      <th>3</th>\n",
       "      <td>0</td>\n",
       "      <td>0</td>\n",
       "      <td>123</td>\n",
       "      <td>483</td>\n",
       "      <td>1</td>\n",
       "    </tr>\n",
       "    <tr>\n",
       "      <th>4</th>\n",
       "      <td>0</td>\n",
       "      <td>0</td>\n",
       "      <td>157</td>\n",
       "      <td>592</td>\n",
       "      <td>1</td>\n",
       "    </tr>\n",
       "  </tbody>\n",
       "</table>\n",
       "</div>"
      ],
      "text/plain": [
       "   week  shopper  product  price  bought\n",
       "0     0        0       71    629       1\n",
       "1     0        0       91    605       1\n",
       "2     0        0      116    715       1\n",
       "3     0        0      123    483       1\n",
       "4     0        0      157    592       1"
      ]
     },
     "execution_count": 4,
     "metadata": {},
     "output_type": "execute_result"
    }
   ],
   "source": [
    "baskets = pd.read_parquet(\"data/baskets.parquet\")\n",
    "baskets[\"week\"] = baskets[\"week\"].astype(\"uint8\")\n",
    "baskets[\"shopper\"] = baskets[\"shopper\"].astype(\"int32\")\n",
    "baskets[\"product\"] = baskets[\"product\"].astype(\"uint8\")\n",
    "baskets[\"price\"] = baskets[\"price\"].astype(\"uint16\")\n",
    "# Add a label to simplify densification later-on\n",
    "baskets[\"bought\"] = 1\n",
    "baskets[\"bought\"] = baskets[\"bought\"].astype(\"uint8\")\n",
    "baskets.head()"
   ]
  },
  {
   "cell_type": "code",
   "execution_count": 5,
   "metadata": {
    "ExecuteTime": {
     "end_time": "2021-03-21T01:49:01.888113Z",
     "start_time": "2021-03-21T01:48:52.973114Z"
    }
   },
   "outputs": [
    {
     "data": {
      "text/html": [
       "<div>\n",
       "<style scoped>\n",
       "    .dataframe tbody tr th:only-of-type {\n",
       "        vertical-align: middle;\n",
       "    }\n",
       "\n",
       "    .dataframe tbody tr th {\n",
       "        vertical-align: top;\n",
       "    }\n",
       "\n",
       "    .dataframe thead th {\n",
       "        text-align: right;\n",
       "    }\n",
       "</style>\n",
       "<table border=\"1\" class=\"dataframe\">\n",
       "  <thead>\n",
       "    <tr style=\"text-align: right;\">\n",
       "      <th></th>\n",
       "      <th>week</th>\n",
       "      <th>shopper</th>\n",
       "      <th>product</th>\n",
       "      <th>discount</th>\n",
       "    </tr>\n",
       "  </thead>\n",
       "  <tbody>\n",
       "    <tr>\n",
       "      <th>0</th>\n",
       "      <td>0</td>\n",
       "      <td>0</td>\n",
       "      <td>35</td>\n",
       "      <td>35</td>\n",
       "    </tr>\n",
       "    <tr>\n",
       "      <th>1</th>\n",
       "      <td>0</td>\n",
       "      <td>0</td>\n",
       "      <td>193</td>\n",
       "      <td>40</td>\n",
       "    </tr>\n",
       "    <tr>\n",
       "      <th>2</th>\n",
       "      <td>0</td>\n",
       "      <td>0</td>\n",
       "      <td>27</td>\n",
       "      <td>30</td>\n",
       "    </tr>\n",
       "    <tr>\n",
       "      <th>3</th>\n",
       "      <td>0</td>\n",
       "      <td>0</td>\n",
       "      <td>177</td>\n",
       "      <td>35</td>\n",
       "    </tr>\n",
       "    <tr>\n",
       "      <th>4</th>\n",
       "      <td>0</td>\n",
       "      <td>0</td>\n",
       "      <td>5</td>\n",
       "      <td>30</td>\n",
       "    </tr>\n",
       "  </tbody>\n",
       "</table>\n",
       "</div>"
      ],
      "text/plain": [
       "   week  shopper  product  discount\n",
       "0     0        0       35        35\n",
       "1     0        0      193        40\n",
       "2     0        0       27        30\n",
       "3     0        0      177        35\n",
       "4     0        0        5        30"
      ]
     },
     "execution_count": 5,
     "metadata": {},
     "output_type": "execute_result"
    }
   ],
   "source": [
    "coupons = pd.read_parquet(\"data/coupons.parquet\")\n",
    "coupons[\"week\"] = coupons[\"week\"].astype(\"uint8\")\n",
    "coupons[\"shopper\"] = coupons[\"shopper\"].astype(\"int32\")\n",
    "coupons[\"product\"] = coupons[\"product\"].astype(\"uint8\")\n",
    "coupons[\"discount\"] = coupons[\"discount\"].astype(\"uint8\")\n",
    "coupons.head()"
   ]
  },
  {
   "cell_type": "markdown",
   "metadata": {},
   "source": [
    "---\n",
    "Create an index connecting a product to its unreduced price"
   ]
  },
  {
   "cell_type": "code",
   "execution_count": 7,
   "metadata": {
    "ExecuteTime": {
     "end_time": "2021-03-21T01:49:22.423865Z",
     "start_time": "2021-03-21T01:49:14.697877Z"
    }
   },
   "outputs": [],
   "source": [
    "price_index = baskets.groupby(\"product\").price.apply(max).reset_index()\n",
    "price_index.to_parquet(\"data/price_index.parquet\")"
   ]
  },
  {
   "cell_type": "code",
   "execution_count": 132,
   "metadata": {
    "ExecuteTime": {
     "end_time": "2021-03-18T02:38:34.942445Z",
     "start_time": "2021-03-18T02:38:33.567663Z"
    }
   },
   "outputs": [],
   "source": [
    "price_index = pd.read_parquet(\"data/price_index.parquet\")"
   ]
  },
  {
   "cell_type": "markdown",
   "metadata": {},
   "source": [
    "# Load Preprocessed Data"
   ]
  },
  {
   "cell_type": "code",
   "execution_count": 6,
   "metadata": {
    "ExecuteTime": {
     "end_time": "2021-03-21T12:29:20.638994Z",
     "start_time": "2021-03-21T12:29:20.620994Z"
    }
   },
   "outputs": [],
   "source": [
    "first_x = 100000  # First x shoppers to consider"
   ]
  },
  {
   "cell_type": "markdown",
   "metadata": {},
   "source": [
    "Multi-core preprocessing that will transform the data to make it compatible with the model:\n",
    "- First keyword is number of shoppers\n",
    "- Second keyword is core count\n",
    "\n",
    "Result will be pickled into working directory (100,000 customers will result in 4GB of data)\n",
    "\n",
    "Running the script in command line will display a progress bar."
   ]
  },
  {
   "cell_type": "code",
   "execution_count": 7,
   "metadata": {
    "ExecuteTime": {
     "end_time": "2021-03-21T12:29:21.336454Z",
     "start_time": "2021-03-21T12:29:21.322443Z"
    }
   },
   "outputs": [],
   "source": [
    "# !python mp_preprocessing.py first_x 10"
   ]
  },
  {
   "cell_type": "code",
   "execution_count": 9,
   "metadata": {
    "ExecuteTime": {
     "end_time": "2021-03-21T12:30:42.147811Z",
     "start_time": "2021-03-21T12:30:07.936296Z"
    }
   },
   "outputs": [],
   "source": [
    "with open(f'./data/histories_first_{first_x}.pkl', 'rb') as file_name:\n",
    "    prep_histories = pickle.load(file_name)\n",
    "\n",
    "with open(f'./data/coupons_first_{first_x}.pkl', 'rb') as file_name:\n",
    "    prep_coupons = pickle.load(file_name)"
   ]
  },
  {
   "cell_type": "markdown",
   "metadata": {},
   "source": [
    "# Evaluate model: "
   ]
  },
  {
   "cell_type": "markdown",
   "metadata": {},
   "source": [
    "## Hold-out validation"
   ]
  },
  {
   "cell_type": "code",
   "execution_count": 10,
   "metadata": {
    "ExecuteTime": {
     "end_time": "2021-03-20T16:57:43.298959Z",
     "start_time": "2021-03-20T16:43:12.665030Z"
    },
    "scrolled": true
   },
   "outputs": [
    {
     "name": "stdout",
     "output_type": "stream",
     "text": [
      "\n",
      "Training on weeks 0 to 78 with labels of week 79...\n",
      "\n",
      "Epoch 1\n",
      "3125/3125 [==============================] - 10s 3ms/step - loss: 0.0891 - auc_3: 0.9207\n",
      "Epoch 2\n",
      "3125/3125 [==============================] - 10s 3ms/step - loss: 0.0805 - auc_3: 0.9423\n",
      "Epoch 3\n",
      "3125/3125 [==============================] - 10s 3ms/step - loss: 0.0794 - auc_3: 0.9440\n",
      "Epoch 4\n",
      "3125/3125 [==============================] - 10s 3ms/step - loss: 0.0788 - auc_3: 0.9449\n",
      "Epoch 5\n",
      "3125/3125 [==============================] - 10s 3ms/step - loss: 0.0783 - auc_3: 0.9455\n",
      "Epoch 6\n",
      "3125/3125 [==============================] - 10s 3ms/step - loss: 0.0780 - auc_3: 0.9461\n",
      "Epoch 7\n",
      "3125/3125 [==============================] - 11s 3ms/step - loss: 0.0777 - auc_3: 0.9465\n",
      "Epoch 8\n",
      "3125/3125 [==============================] - 11s 3ms/step - loss: 0.0774 - auc_3: 0.9469\n",
      "Epoch 9\n",
      "3125/3125 [==============================] - 10s 3ms/step - loss: 0.0771 - auc_3: 0.9472\n",
      "Epoch 10\n",
      "3125/3125 [==============================] - 11s 3ms/step - loss: 0.0769 - auc_3: 0.9475\n",
      "Epoch 11\n",
      "3125/3125 [==============================] - 11s 3ms/step - loss: 0.0768 - auc_3: 0.9477\n",
      "Epoch 12\n",
      "3125/3125 [==============================] - 11s 3ms/step - loss: 0.0766 - auc_3: 0.9479\n",
      "Epoch 13\n",
      "3125/3125 [==============================] - 11s 3ms/step - loss: 0.0765 - auc_3: 0.9481\n",
      "Epoch 14\n",
      "3125/3125 [==============================] - 11s 3ms/step - loss: 0.0764 - auc_3: 0.9482\n",
      "Epoch 15\n",
      "3125/3125 [==============================] - 11s 3ms/step - loss: 0.0763 - auc_3: 0.9483\n",
      "Epoch 16\n",
      "3125/3125 [==============================] - 11s 3ms/step - loss: 0.0762 - auc_3: 0.9483\n",
      "Epoch 17\n",
      "3125/3125 [==============================] - 11s 3ms/step - loss: 0.0761 - auc_3: 0.9485\n",
      "Epoch 18\n",
      "3125/3125 [==============================] - 11s 3ms/step - loss: 0.0760 - auc_3: 0.9485\n",
      "Epoch 19\n",
      "3125/3125 [==============================] - 11s 3ms/step - loss: 0.0760 - auc_3: 0.9486\n",
      "Epoch 20\n",
      "3125/3125 [==============================] - 11s 4ms/step - loss: 0.0759 - auc_3: 0.9486\n",
      "Epoch 21\n",
      "3125/3125 [==============================] - 11s 4ms/step - loss: 0.0759 - auc_3: 0.9487\n",
      "Epoch 22\n",
      "3125/3125 [==============================] - 11s 3ms/step - loss: 0.0758 - auc_3: 0.9487\n",
      "Epoch 23\n",
      "3125/3125 [==============================] - 11s 4ms/step - loss: 0.0758 - auc_3: 0.9487\n",
      "Epoch 24\n",
      "3125/3125 [==============================] - 11s 3ms/step - loss: 0.0758 - auc_3: 0.9487\n",
      "Epoch 25\n",
      "3125/3125 [==============================] - 11s 4ms/step - loss: 0.0757 - auc_3: 0.9487\n",
      "Epoch 26\n",
      "3125/3125 [==============================] - 11s 4ms/step - loss: 0.0757 - auc_3: 0.9487\n",
      "Epoch 27\n",
      "3125/3125 [==============================] - 11s 3ms/step - loss: 0.0757 - auc_3: 0.9488\n",
      "Epoch 28\n",
      "3125/3125 [==============================] - 11s 4ms/step - loss: 0.0756 - auc_3: 0.9488\n",
      "Epoch 29\n",
      "3125/3125 [==============================] - 12s 4ms/step - loss: 0.0756 - auc_3: 0.9488\n",
      "Epoch 30\n",
      "3125/3125 [==============================] - 12s 4ms/step - loss: 0.0756 - auc_3: 0.9489\n",
      "Week\tLog Loss\tAUC\tAP Score\tOwn-Product\tWithin-Cat\tCross-Pos\tCross-Neg\tCross-Zero\n",
      "80\t0.078\t\t0.948\t0.487\t\t4.459\t\t-0.147\t\t0.104\t\t-0.122\t\t-0.003\n",
      "81\t0.078\t\t0.947\t0.482\t\t4.445\t\t-0.145\t\t0.104\t\t-0.122\t\t-0.004\n",
      "82\t0.078\t\t0.947\t0.486\t\t4.478\t\t-0.146\t\t0.103\t\t-0.122\t\t-0.003\n",
      "83\t0.078\t\t0.948\t0.486\t\t4.482\t\t-0.146\t\t0.103\t\t-0.123\t\t-0.003\n",
      "84\t0.078\t\t0.948\t0.488\t\t4.449\t\t-0.145\t\t0.103\t\t-0.122\t\t-0.004\n",
      "85\t0.078\t\t0.947\t0.487\t\t4.453\t\t-0.146\t\t0.103\t\t-0.121\t\t-0.003\n",
      "86\t0.078\t\t0.946\t0.483\t\t4.438\t\t-0.145\t\t0.103\t\t-0.122\t\t-0.004\n",
      "87\t0.078\t\t0.947\t0.484\t\t4.444\t\t-0.146\t\t0.103\t\t-0.122\t\t-0.004\n",
      "88\t0.078\t\t0.947\t0.483\t\t4.446\t\t-0.146\t\t0.104\t\t-0.122\t\t-0.004\n",
      "89\t0.078\t\t0.948\t0.485\t\t4.465\t\t-0.146\t\t0.104\t\t-0.122\t\t-0.003\n",
      "\n",
      "Total\t0.078\t\t0.947\t0.485\t\t4.456\t\t-0.146\t\t0.103\t\t-0.122\t\t-0.004\n",
      "\n"
     ]
    }
   ],
   "source": [
    "# From util.py\n",
    "# Model building, weight initalization and elasticity calculation is carried out behind the covers\n",
    "\n",
    "model = iterate_epochs(prep_histories, \n",
    "                       prep_coupons,\n",
    "                       model=None,\n",
    "                       weeks_to_validate=10,\n",
    "                       max_epochs=30,\n",
    "                       H=40,\n",
    "                       L=50,\n",
    "                       validate_every=30,\n",
    "                       shoppers_for_scoring=10000,\n",
    "                       batch_size=32,\n",
    "                       learning_rate=0.001,\n",
    "                       calculate_elasticities=True,\n",
    "                       verbose=1)"
   ]
  },
  {
   "cell_type": "markdown",
   "metadata": {
    "ExecuteTime": {
     "end_time": "2021-03-21T01:51:15.465397Z",
     "start_time": "2021-03-21T01:51:15.461400Z"
    }
   },
   "source": [
    "## Apply T-SNE to Bottleneck Weight Matrix"
   ]
  },
  {
   "cell_type": "code",
   "execution_count": 33,
   "metadata": {
    "ExecuteTime": {
     "end_time": "2021-03-15T13:19:33.602924Z",
     "start_time": "2021-03-15T13:19:33.598925Z"
    },
    "scrolled": true
   },
   "outputs": [
    {
     "name": "stdout",
     "output_type": "stream",
     "text": [
      "0 hists\n",
      "1 coups\n",
      "2 conv1d_3\n",
      "3 leaky_re_lu_1\n",
      "4 freqs\n",
      "5 tf_op_layer_Mul_3\n",
      "6 Transpose_B_H\n",
      "7 Transpose_B_inf\n",
      "8 Transpose_D\n",
      "9 W_IN_B_H\n",
      "10 W_IN_B_inf\n",
      "11 W_IN_D\n",
      "12 tf_op_layer_Shape_1\n",
      "13 W_OUT_B_H\n",
      "14 W_OUT_B_inf\n",
      "15 W_OUT_D\n",
      "16 tf_op_layer_Fill_1\n",
      "17 Transpose_B_H_bar_back\n",
      "18 Transpose_B_inf_bar_back\n",
      "19 Transpose_D_bar_back\n",
      "20 concatenate_1\n",
      "21 Sigmoid\n"
     ]
    }
   ],
   "source": [
    "for ix, l in enumerate(model.layers):\n",
    "    print(ix, l.name)"
   ]
  },
  {
   "cell_type": "code",
   "execution_count": 77,
   "metadata": {
    "ExecuteTime": {
     "end_time": "2021-03-21T00:58:39.476879Z",
     "start_time": "2021-03-21T00:58:39.465869Z"
    }
   },
   "outputs": [],
   "source": [
    "W_IN = model.layers[9].get_weights()[0]"
   ]
  },
  {
   "cell_type": "code",
   "execution_count": 78,
   "metadata": {
    "ExecuteTime": {
     "end_time": "2021-03-21T00:58:40.547067Z",
     "start_time": "2021-03-21T00:58:39.726066Z"
    },
    "scrolled": false
   },
   "outputs": [
    {
     "data": {
      "image/png": "[encoded data removed]",
      "text/plain": [
       "<Figure size 720x504 with 2 Axes>"
      ]
     },
     "metadata": {
      "needs_background": "light"
     },
     "output_type": "display_data"
    }
   ],
   "source": [
    "plt.figure(figsize=(10,7))\n",
    "sns.heatmap(W_IN);"
   ]
  },
  {
   "cell_type": "code",
   "execution_count": 79,
   "metadata": {
    "ExecuteTime": {
     "end_time": "2021-03-21T00:58:45.013134Z",
     "start_time": "2021-03-21T00:58:40.657134Z"
    }
   },
   "outputs": [
    {
     "data": {
      "image/png": "[encoded data removed]",
      "text/plain": [
       "<Figure size 720x504 with 1 Axes>"
      ]
     },
     "metadata": {
      "needs_background": "light"
     },
     "output_type": "display_data"
    }
   ],
   "source": [
    "tsne = TSNE(n_components=2,\n",
    "            perplexity=10,\n",
    "            n_iter=10000,\n",
    "            verbose=0,\n",
    "            learning_rate=10,\n",
    "            random_state=69,\n",
    "            angle=0.5,\n",
    "            n_jobs=6)\n",
    "\n",
    "kmeans = KMeans(n_clusters=25,\n",
    "                n_init=10,\n",
    "                max_iter=300,\n",
    "                verbose=1,\n",
    "                random_state=420,\n",
    "                copy_x=True,\n",
    "                n_jobs=6)\n",
    "\n",
    "tsne_df = tsne.fit_transform(W_IN)\n",
    "kmeans.fit(tsne_df)\n",
    "kmpred = kmeans.predict(tsne_df)\n",
    "centroids = kmeans.cluster_centers_\n",
    "\n",
    "plt.figure(figsize=(10,7))\n",
    "sns.scatterplot(x=tsne_df[:, 0], y=tsne_df[:, 1], hue=kmpred, palette=\"viridis\", legend=None)\n",
    "plt.scatter(x=centroids[:, 0], y=centroids[:, 1], marker=\"o\", s=3000, facecolors='none', edgecolors=\"red\");"
   ]
  },
  {
   "cell_type": "code",
   "execution_count": 80,
   "metadata": {
    "ExecuteTime": {
     "end_time": "2021-03-21T00:58:45.093149Z",
     "start_time": "2021-03-21T00:58:45.078150Z"
    },
    "scrolled": false
   },
   "outputs": [
    {
     "data": {
      "text/plain": [
       "array([21, 21, 21, 21, 21, 21, 21, 21, 21, 21,  5,  5,  5,  5,  5,  5,  5,\n",
       "        5,  5,  5, 23, 23, 23, 23, 23, 23, 23, 20, 23, 23, 15, 15, 15, 15,\n",
       "       15, 15, 15, 15, 15, 15,  6,  6,  6,  6,  6,  6,  6,  6,  6,  6,  1,\n",
       "        1,  1,  1,  1,  1,  1,  1,  1,  1, 16, 16, 16, 16, 16, 16, 16, 16,\n",
       "       16, 16, 18, 18, 18, 18, 18, 18, 18, 18, 18, 18, 13, 13, 13, 13, 13,\n",
       "       13, 13, 13, 13, 13, 19, 19, 19, 19, 19, 19, 19, 19, 19, 19,  4,  4,\n",
       "        4,  4,  4,  4,  4,  4,  4,  4, 11, 11, 11, 11, 11, 11, 11, 11, 11,\n",
       "       11,  2,  2,  2,  2,  2,  2,  2,  2,  2,  2,  8,  8,  8,  8,  8,  8,\n",
       "        8,  8,  8,  8,  3,  3,  3,  3,  3,  3,  3,  3,  3,  3, 10, 10, 10,\n",
       "       10, 10, 10, 10, 10, 10, 10, 24, 24, 24, 24, 24, 24, 24, 24, 24, 24,\n",
       "        7,  7,  7,  7,  7,  7,  7,  7,  7,  7, 12, 12, 12, 12, 12, 12, 12,\n",
       "       12, 12, 12,  0,  0,  0,  0,  0,  0,  0,  0,  0,  0, 14, 14, 14, 14,\n",
       "       14, 14, 14, 14, 14, 14,  9,  9,  9,  9,  9,  9,  9,  9,  9,  9, 22,\n",
       "       22, 22, 22, 22, 22, 22, 22, 22, 22, 17, 17, 17, 17, 17, 17, 17, 17,\n",
       "       17, 17, 20, 20, 20, 20, 20, 20, 20, 20, 20, 20])"
      ]
     },
     "execution_count": 80,
     "metadata": {},
     "output_type": "execute_result"
    }
   ],
   "source": [
    "kmpred"
   ]
  },
  {
   "cell_type": "markdown",
   "metadata": {},
   "source": [
    "# Select Coupons"
   ]
  },
  {
   "cell_type": "code",
   "execution_count": 10,
   "metadata": {
    "ExecuteTime": {
     "end_time": "2021-03-21T12:31:40.030897Z",
     "start_time": "2021-03-21T12:31:40.026900Z"
    }
   },
   "outputs": [],
   "source": [
    "J = 250\n",
    "T = 89  # Weeks 0 to 88 ... have to omit 89 from training because there are no t+1 buys or coupons\n",
    "H = 40  # Number of convolutional filters over history\n",
    "L = 50  # Encoding dimension\n",
    "# K (width of concatenate layer) should be H + H + 2 + 2 + 1"
   ]
  },
  {
   "cell_type": "code",
   "execution_count": 11,
   "metadata": {
    "ExecuteTime": {
     "end_time": "2021-03-21T12:31:46.258495Z",
     "start_time": "2021-03-21T12:31:43.588369Z"
    }
   },
   "outputs": [],
   "source": [
    "model = build_model(J, T, H, L)"
   ]
  },
  {
   "cell_type": "code",
   "execution_count": 27,
   "metadata": {
    "ExecuteTime": {
     "end_time": "2021-03-20T21:27:28.362422Z",
     "start_time": "2021-03-20T21:27:28.348424Z"
    }
   },
   "outputs": [],
   "source": [
    "histories_x_train = prep_histories[:, :, :T]\n",
    "coupons_x_train = prep_coupons[:, :, T].reshape((prep_coupons.shape[0], 250, 1))\n",
    "y_train = prep_histories[:, :, T].reshape((prep_histories.shape[0], 250, 1))"
   ]
  },
  {
   "cell_type": "code",
   "execution_count": 28,
   "metadata": {
    "ExecuteTime": {
     "end_time": "2021-03-20T21:32:34.416933Z",
     "start_time": "2021-03-20T21:27:34.874975Z"
    },
    "scrolled": true
   },
   "outputs": [
    {
     "name": "stdout",
     "output_type": "stream",
     "text": [
      "Epoch 1/30\n",
      "3125/3125 [==============================] - 10s 3ms/step - loss: 0.0889 - auc: 0.9214\n",
      "Epoch 2/30\n",
      "3125/3125 [==============================] - 10s 3ms/step - loss: 0.0803 - auc: 0.9431\n",
      "Epoch 3/30\n",
      "3125/3125 [==============================] - 10s 3ms/step - loss: 0.0794 - auc: 0.9447\n",
      "Epoch 4/30\n",
      "3125/3125 [==============================] - 10s 3ms/step - loss: 0.0788 - auc: 0.9456\n",
      "Epoch 5/30\n",
      "3125/3125 [==============================] - 10s 3ms/step - loss: 0.0783 - auc: 0.9464\n",
      "Epoch 6/30\n",
      "3125/3125 [==============================] - 10s 3ms/step - loss: 0.0780 - auc: 0.9469\n",
      "Epoch 7/30\n",
      "3125/3125 [==============================] - 10s 3ms/step - loss: 0.0777 - auc: 0.9472\n",
      "Epoch 8/30\n",
      "3125/3125 [==============================] - 10s 3ms/step - loss: 0.0774 - auc: 0.9476\n",
      "Epoch 9/30\n",
      "3125/3125 [==============================] - 10s 3ms/step - loss: 0.0772 - auc: 0.9480\n",
      "Epoch 10/30\n",
      "3125/3125 [==============================] - 10s 3ms/step - loss: 0.0770 - auc: 0.9482\n",
      "Epoch 11/30\n",
      "3125/3125 [==============================] - 10s 3ms/step - loss: 0.0768 - auc: 0.9484\n",
      "Epoch 12/30\n",
      "3125/3125 [==============================] - 10s 3ms/step - loss: 0.0766 - auc: 0.9487\n",
      "Epoch 13/30\n",
      "3125/3125 [==============================] - 10s 3ms/step - loss: 0.0765 - auc: 0.9489\n",
      "Epoch 14/30\n",
      "3125/3125 [==============================] - 10s 3ms/step - loss: 0.0763 - auc: 0.9490\n",
      "Epoch 15/30\n",
      "3125/3125 [==============================] - 10s 3ms/step - loss: 0.0762 - auc: 0.9491\n",
      "Epoch 16/30\n",
      "3125/3125 [==============================] - 10s 3ms/step - loss: 0.0761 - auc: 0.9492\n",
      "Epoch 17/30\n",
      "3125/3125 [==============================] - 10s 3ms/step - loss: 0.0760 - auc: 0.9492\n",
      "Epoch 18/30\n",
      "3125/3125 [==============================] - 10s 3ms/step - loss: 0.0760 - auc: 0.9493\n",
      "Epoch 19/30\n",
      "3125/3125 [==============================] - 10s 3ms/step - loss: 0.0759 - auc: 0.9493\n",
      "Epoch 20/30\n",
      "3125/3125 [==============================] - 10s 3ms/step - loss: 0.0758 - auc: 0.9494\n",
      "Epoch 21/30\n",
      "3125/3125 [==============================] - 10s 3ms/step - loss: 0.0758 - auc: 0.9494\n",
      "Epoch 22/30\n",
      "3125/3125 [==============================] - 10s 3ms/step - loss: 0.0757 - auc: 0.9495\n",
      "Epoch 23/30\n",
      "3125/3125 [==============================] - 10s 3ms/step - loss: 0.0757 - auc: 0.9495\n",
      "Epoch 24/30\n",
      "3125/3125 [==============================] - 10s 3ms/step - loss: 0.0756 - auc: 0.9495\n",
      "Epoch 25/30\n",
      "3125/3125 [==============================] - 10s 3ms/step - loss: 0.0756 - auc: 0.9495\n",
      "Epoch 26/30\n",
      "3125/3125 [==============================] - 10s 3ms/step - loss: 0.0756 - auc: 0.9495\n",
      "Epoch 27/30\n",
      "3125/3125 [==============================] - 10s 3ms/step - loss: 0.0756 - auc: 0.9496\n",
      "Epoch 28/30\n",
      "3125/3125 [==============================] - 10s 3ms/step - loss: 0.0755 - auc: 0.9496\n",
      "Epoch 29/30\n",
      "3125/3125 [==============================] - 10s 3ms/step - loss: 0.0755 - auc: 0.9496\n",
      "Epoch 30/30\n",
      "3125/3125 [==============================] - 10s 3ms/step - loss: 0.0755 - auc: 0.9496\n"
     ]
    }
   ],
   "source": [
    "#history = model.fit([histories_x_train, coupons_x_train], y_train, epochs=30, verbose=1, batch_size=32, validation_split=0)"
   ]
  },
  {
   "cell_type": "code",
   "execution_count": 29,
   "metadata": {
    "ExecuteTime": {
     "end_time": "2021-03-20T21:32:34.717424Z",
     "start_time": "2021-03-20T21:32:34.449938Z"
    }
   },
   "outputs": [],
   "source": [
    "#model.save_weights(\"./saved_weights/main_model_full\")"
   ]
  },
  {
   "cell_type": "code",
   "execution_count": 12,
   "metadata": {
    "ExecuteTime": {
     "end_time": "2021-03-21T12:32:05.367568Z",
     "start_time": "2021-03-21T12:32:05.268580Z"
    }
   },
   "outputs": [
    {
     "data": {
      "text/plain": [
       "<tensorflow.python.training.tracking.util.CheckpointLoadStatus at 0x1d10d895940>"
      ]
     },
     "execution_count": 12,
     "metadata": {},
     "output_type": "execute_result"
    }
   ],
   "source": [
    "model.load_weights(\"./saved_weights/main_model_full\");"
   ]
  },
  {
   "cell_type": "code",
   "execution_count": 45,
   "metadata": {
    "ExecuteTime": {
     "end_time": "2021-03-21T12:38:46.012060Z",
     "start_time": "2021-03-21T12:38:46.001060Z"
    }
   },
   "outputs": [],
   "source": [
    "coupon_index = pd.read_parquet(\"data/coupon_index.parquet\")\n",
    "coupon_index[\"product\"] = -1\n",
    "coupon_index[\"discount\"] = -1"
   ]
  },
  {
   "cell_type": "code",
   "execution_count": 47,
   "metadata": {
    "ExecuteTime": {
     "end_time": "2021-03-21T12:55:33.003119Z",
     "start_time": "2021-03-21T12:38:47.727012Z"
    }
   },
   "outputs": [
    {
     "name": "stderr",
     "output_type": "stream",
     "text": [
      "100%|██████████████████████████████████████████████████████████████████████████████| 2000/2000 [16:45<00:00,  1.99it/s]\n"
     ]
    }
   ],
   "source": [
    "for shopper in tqdm(range(2000)):\n",
    "    # From util.py\n",
    "    optimal_coupons = optimize_coupons_by_cat(shopper, model, prep_histories[:, :, 1:90], kmpred, verbose=False)\n",
    "    optimal_products = np.where(optimal_coupons > 0)[0]\n",
    "    optimal_discounts = optimal_coupons[optimal_products]\n",
    "    coupon_index.loc[coupon_index[\"shopper\"]==shopper, \"product\"] = optimal_products\n",
    "    coupon_index.loc[coupon_index[\"shopper\"]==shopper, \"discount\"] = optimal_discounts\n",
    "    \n",
    "coupon_index[\"discount\"] = coupon_index[\"discount\"].astype(\"uint8\")"
   ]
  },
  {
   "cell_type": "code",
   "execution_count": 71,
   "metadata": {
    "ExecuteTime": {
     "end_time": "2021-03-21T13:09:51.763296Z",
     "start_time": "2021-03-21T13:09:51.755296Z"
    },
    "scrolled": false
   },
   "outputs": [
    {
     "data": {
      "text/html": [
       "<div>\n",
       "<style scoped>\n",
       "    .dataframe tbody tr th:only-of-type {\n",
       "        vertical-align: middle;\n",
       "    }\n",
       "\n",
       "    .dataframe tbody tr th {\n",
       "        vertical-align: top;\n",
       "    }\n",
       "\n",
       "    .dataframe thead th {\n",
       "        text-align: right;\n",
       "    }\n",
       "</style>\n",
       "<table border=\"1\" class=\"dataframe\">\n",
       "  <thead>\n",
       "    <tr style=\"text-align: right;\">\n",
       "      <th></th>\n",
       "      <th>week</th>\n",
       "      <th>shopper</th>\n",
       "      <th>coupon</th>\n",
       "      <th>product</th>\n",
       "      <th>discount</th>\n",
       "    </tr>\n",
       "  </thead>\n",
       "  <tbody>\n",
       "    <tr>\n",
       "      <th>0</th>\n",
       "      <td>90</td>\n",
       "      <td>0</td>\n",
       "      <td>0</td>\n",
       "      <td>11</td>\n",
       "      <td>30</td>\n",
       "    </tr>\n",
       "    <tr>\n",
       "      <th>2000</th>\n",
       "      <td>90</td>\n",
       "      <td>0</td>\n",
       "      <td>1</td>\n",
       "      <td>29</td>\n",
       "      <td>30</td>\n",
       "    </tr>\n",
       "    <tr>\n",
       "      <th>4000</th>\n",
       "      <td>90</td>\n",
       "      <td>0</td>\n",
       "      <td>2</td>\n",
       "      <td>64</td>\n",
       "      <td>30</td>\n",
       "    </tr>\n",
       "    <tr>\n",
       "      <th>6000</th>\n",
       "      <td>90</td>\n",
       "      <td>0</td>\n",
       "      <td>3</td>\n",
       "      <td>191</td>\n",
       "      <td>30</td>\n",
       "    </tr>\n",
       "    <tr>\n",
       "      <th>8000</th>\n",
       "      <td>90</td>\n",
       "      <td>0</td>\n",
       "      <td>4</td>\n",
       "      <td>243</td>\n",
       "      <td>30</td>\n",
       "    </tr>\n",
       "    <tr>\n",
       "      <th>...</th>\n",
       "      <td>...</td>\n",
       "      <td>...</td>\n",
       "      <td>...</td>\n",
       "      <td>...</td>\n",
       "      <td>...</td>\n",
       "    </tr>\n",
       "    <tr>\n",
       "      <th>1999</th>\n",
       "      <td>90</td>\n",
       "      <td>1999</td>\n",
       "      <td>0</td>\n",
       "      <td>4</td>\n",
       "      <td>30</td>\n",
       "    </tr>\n",
       "    <tr>\n",
       "      <th>3999</th>\n",
       "      <td>90</td>\n",
       "      <td>1999</td>\n",
       "      <td>1</td>\n",
       "      <td>10</td>\n",
       "      <td>30</td>\n",
       "    </tr>\n",
       "    <tr>\n",
       "      <th>5999</th>\n",
       "      <td>90</td>\n",
       "      <td>1999</td>\n",
       "      <td>2</td>\n",
       "      <td>164</td>\n",
       "      <td>30</td>\n",
       "    </tr>\n",
       "    <tr>\n",
       "      <th>7999</th>\n",
       "      <td>90</td>\n",
       "      <td>1999</td>\n",
       "      <td>3</td>\n",
       "      <td>172</td>\n",
       "      <td>30</td>\n",
       "    </tr>\n",
       "    <tr>\n",
       "      <th>9999</th>\n",
       "      <td>90</td>\n",
       "      <td>1999</td>\n",
       "      <td>4</td>\n",
       "      <td>182</td>\n",
       "      <td>30</td>\n",
       "    </tr>\n",
       "  </tbody>\n",
       "</table>\n",
       "<p>10000 rows × 5 columns</p>\n",
       "</div>"
      ],
      "text/plain": [
       "      week  shopper  coupon  product  discount\n",
       "0       90        0       0       11        30\n",
       "2000    90        0       1       29        30\n",
       "4000    90        0       2       64        30\n",
       "6000    90        0       3      191        30\n",
       "8000    90        0       4      243        30\n",
       "...    ...      ...     ...      ...       ...\n",
       "1999    90     1999       0        4        30\n",
       "3999    90     1999       1       10        30\n",
       "5999    90     1999       2      164        30\n",
       "7999    90     1999       3      172        30\n",
       "9999    90     1999       4      182        30\n",
       "\n",
       "[10000 rows x 5 columns]"
      ]
     },
     "execution_count": 71,
     "metadata": {},
     "output_type": "execute_result"
    }
   ],
   "source": [
    "coupon_index"
   ]
  },
  {
   "cell_type": "code",
   "execution_count": 50,
   "metadata": {
    "ExecuteTime": {
     "end_time": "2021-03-21T12:58:03.858767Z",
     "start_time": "2021-03-21T12:58:03.399769Z"
    }
   },
   "outputs": [],
   "source": [
    "coupon_index.to_parquet(\"../coupon_index.parquet\")"
   ]
  }
 ],
 "metadata": {
  "kernelspec": {
   "display_name": "Python 3",
   "language": "python",
   "name": "python3"
  },
  "language_info": {
   "codemirror_mode": {
    "name": "ipython",
    "version": 3
   },
   "file_extension": ".py",
   "mimetype": "text/x-python",
   "name": "python",
   "nbconvert_exporter": "python",
   "pygments_lexer": "ipython3",
   "version": "3.9.6"
  },
  "notify_time": "30",
  "toc": {
   "base_numbering": 1,
   "nav_menu": {},
   "number_sections": true,
   "sideBar": true,
   "skip_h1_title": false,
   "title_cell": "Table of Contents",
   "title_sidebar": "Contents",
   "toc_cell": false,
   "toc_position": {
    "height": "calc(100% - 180px)",
    "left": "10px",
    "top": "150px",
    "width": "384px"
   },
   "toc_section_display": true,
   "toc_window_display": true
  },
  "varInspector": {
   "cols": {
    "lenName": 16,
    "lenType": 16,
    "lenVar": 40
   },
   "kernels_config": {
    "python": {
     "delete_cmd_postfix": "",
     "delete_cmd_prefix": "del ",
     "library": "var_list.py",
     "varRefreshCmd": "print(var_dic_list())"
    },
    "r": {
     "delete_cmd_postfix": ") ",
     "delete_cmd_prefix": "rm(",
     "library": "var_list.r",
     "varRefreshCmd": "cat(var_dic_list()) "
    }
   },
   "position": {
    "height": "747px",
    "left": "1551px",
    "right": "20px",
    "top": "117px",
    "width": "350px"
   },
   "types_to_exclude": [
    "module",
    "function",
    "builtin_function_or_method",
    "instance",
    "_Feature"
   ],
   "window_display": false
  }
 },
 "nbformat": 4,
 "nbformat_minor": 4
}
