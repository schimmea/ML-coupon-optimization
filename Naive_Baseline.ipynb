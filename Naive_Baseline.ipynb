{
 "cells": [
  {
   "cell_type": "code",
   "execution_count": 1,
   "metadata": {
    "ExecuteTime": {
     "end_time": "2021-03-21T02:34:43.404494Z",
     "start_time": "2021-03-21T02:34:42.908496Z"
    }
   },
   "outputs": [],
   "source": [
    "import pandas as pd\n",
    "import numpy as np\n",
    "import matplotlib.pyplot as plt"
   ]
  },
  {
   "cell_type": "code",
   "execution_count": 2,
   "metadata": {
    "ExecuteTime": {
     "end_time": "2021-03-21T02:34:44.005494Z",
     "start_time": "2021-03-21T02:34:43.437496Z"
    }
   },
   "outputs": [],
   "source": [
    "from sklearn.metrics import log_loss, roc_auc_score, average_precision_score"
   ]
  },
  {
   "cell_type": "markdown",
   "metadata": {},
   "source": [
    "# Load Data"
   ]
  },
  {
   "cell_type": "code",
   "execution_count": 3,
   "metadata": {
    "ExecuteTime": {
     "end_time": "2021-03-21T02:35:00.987269Z",
     "start_time": "2021-03-21T02:34:45.469758Z"
    }
   },
   "outputs": [
    {
     "data": {
      "text/html": [
       "<div>\n",
       "<style scoped>\n",
       "    .dataframe tbody tr th:only-of-type {\n",
       "        vertical-align: middle;\n",
       "    }\n",
       "\n",
       "    .dataframe tbody tr th {\n",
       "        vertical-align: top;\n",
       "    }\n",
       "\n",
       "    .dataframe thead th {\n",
       "        text-align: right;\n",
       "    }\n",
       "</style>\n",
       "<table border=\"1\" class=\"dataframe\">\n",
       "  <thead>\n",
       "    <tr style=\"text-align: right;\">\n",
       "      <th></th>\n",
       "      <th>week</th>\n",
       "      <th>shopper</th>\n",
       "      <th>product</th>\n",
       "      <th>price</th>\n",
       "      <th>bought</th>\n",
       "    </tr>\n",
       "  </thead>\n",
       "  <tbody>\n",
       "    <tr>\n",
       "      <th>0</th>\n",
       "      <td>0</td>\n",
       "      <td>0</td>\n",
       "      <td>71</td>\n",
       "      <td>629</td>\n",
       "      <td>1</td>\n",
       "    </tr>\n",
       "    <tr>\n",
       "      <th>1</th>\n",
       "      <td>0</td>\n",
       "      <td>0</td>\n",
       "      <td>91</td>\n",
       "      <td>605</td>\n",
       "      <td>1</td>\n",
       "    </tr>\n",
       "    <tr>\n",
       "      <th>2</th>\n",
       "      <td>0</td>\n",
       "      <td>0</td>\n",
       "      <td>116</td>\n",
       "      <td>715</td>\n",
       "      <td>1</td>\n",
       "    </tr>\n",
       "    <tr>\n",
       "      <th>3</th>\n",
       "      <td>0</td>\n",
       "      <td>0</td>\n",
       "      <td>123</td>\n",
       "      <td>483</td>\n",
       "      <td>1</td>\n",
       "    </tr>\n",
       "    <tr>\n",
       "      <th>4</th>\n",
       "      <td>0</td>\n",
       "      <td>0</td>\n",
       "      <td>157</td>\n",
       "      <td>592</td>\n",
       "      <td>1</td>\n",
       "    </tr>\n",
       "  </tbody>\n",
       "</table>\n",
       "</div>"
      ],
      "text/plain": [
       "   week  shopper  product  price  bought\n",
       "0     0        0       71    629       1\n",
       "1     0        0       91    605       1\n",
       "2     0        0      116    715       1\n",
       "3     0        0      123    483       1\n",
       "4     0        0      157    592       1"
      ]
     },
     "execution_count": 3,
     "metadata": {},
     "output_type": "execute_result"
    }
   ],
   "source": [
    "baskets = pd.read_parquet(\"data/baskets.parquet\")\n",
    "baskets[\"week\"] = baskets[\"week\"].astype(\"uint8\")\n",
    "baskets[\"shopper\"] = baskets[\"shopper\"].astype(\"int32\")\n",
    "baskets[\"product\"] = baskets[\"product\"].astype(\"uint8\")\n",
    "baskets[\"price\"] = baskets[\"price\"].astype(\"uint16\")\n",
    "baskets[\"bought\"] = 1\n",
    "baskets[\"bought\"] = baskets[\"bought\"].astype(\"uint8\")\n",
    "baskets.head()"
   ]
  },
  {
   "cell_type": "code",
   "execution_count": 4,
   "metadata": {
    "ExecuteTime": {
     "end_time": "2021-03-21T02:35:09.246270Z",
     "start_time": "2021-03-21T02:35:01.021272Z"
    }
   },
   "outputs": [
    {
     "data": {
      "text/html": [
       "<div>\n",
       "<style scoped>\n",
       "    .dataframe tbody tr th:only-of-type {\n",
       "        vertical-align: middle;\n",
       "    }\n",
       "\n",
       "    .dataframe tbody tr th {\n",
       "        vertical-align: top;\n",
       "    }\n",
       "\n",
       "    .dataframe thead th {\n",
       "        text-align: right;\n",
       "    }\n",
       "</style>\n",
       "<table border=\"1\" class=\"dataframe\">\n",
       "  <thead>\n",
       "    <tr style=\"text-align: right;\">\n",
       "      <th></th>\n",
       "      <th>week</th>\n",
       "      <th>shopper</th>\n",
       "      <th>product</th>\n",
       "      <th>discount</th>\n",
       "      <th>coupon</th>\n",
       "    </tr>\n",
       "  </thead>\n",
       "  <tbody>\n",
       "    <tr>\n",
       "      <th>0</th>\n",
       "      <td>0</td>\n",
       "      <td>0</td>\n",
       "      <td>35</td>\n",
       "      <td>35</td>\n",
       "      <td>1</td>\n",
       "    </tr>\n",
       "    <tr>\n",
       "      <th>1</th>\n",
       "      <td>0</td>\n",
       "      <td>0</td>\n",
       "      <td>193</td>\n",
       "      <td>40</td>\n",
       "      <td>1</td>\n",
       "    </tr>\n",
       "    <tr>\n",
       "      <th>2</th>\n",
       "      <td>0</td>\n",
       "      <td>0</td>\n",
       "      <td>27</td>\n",
       "      <td>30</td>\n",
       "      <td>1</td>\n",
       "    </tr>\n",
       "    <tr>\n",
       "      <th>3</th>\n",
       "      <td>0</td>\n",
       "      <td>0</td>\n",
       "      <td>177</td>\n",
       "      <td>35</td>\n",
       "      <td>1</td>\n",
       "    </tr>\n",
       "    <tr>\n",
       "      <th>4</th>\n",
       "      <td>0</td>\n",
       "      <td>0</td>\n",
       "      <td>5</td>\n",
       "      <td>30</td>\n",
       "      <td>1</td>\n",
       "    </tr>\n",
       "  </tbody>\n",
       "</table>\n",
       "</div>"
      ],
      "text/plain": [
       "   week  shopper  product  discount  coupon\n",
       "0     0        0       35        35       1\n",
       "1     0        0      193        40       1\n",
       "2     0        0       27        30       1\n",
       "3     0        0      177        35       1\n",
       "4     0        0        5        30       1"
      ]
     },
     "execution_count": 4,
     "metadata": {},
     "output_type": "execute_result"
    }
   ],
   "source": [
    "coupons = pd.read_parquet(\"data/coupons.parquet\")\n",
    "coupons[\"week\"] = coupons[\"week\"].astype(\"uint8\")\n",
    "coupons[\"shopper\"] = coupons[\"shopper\"].astype(\"int32\")\n",
    "coupons[\"product\"] = coupons[\"product\"].astype(\"uint8\")\n",
    "coupons[\"discount\"] = coupons[\"discount\"].astype(\"uint8\")\n",
    "coupons[\"coupon\"] = 1\n",
    "coupons[\"coupon\"] = coupons[\"coupon\"].astype(\"uint8\")\n",
    "coupons.head()"
   ]
  },
  {
   "cell_type": "markdown",
   "metadata": {},
   "source": [
    "---\n",
    "Multi-core summation that will calculate a crosstable of bought vs. not bought split by coupon sizes.\n",
    "- First keyword is core count\n",
    "\n",
    "Result will be a .csv in working directory\n",
    "\n",
    "Running the script in command line will display a progress bar. It takes fairly long (3 minutes on 10 cores)."
   ]
  },
  {
   "cell_type": "code",
   "execution_count": null,
   "metadata": {},
   "outputs": [],
   "source": [
    "# !crosstable_naive.py 10"
   ]
  },
  {
   "cell_type": "code",
   "execution_count": 5,
   "metadata": {
    "ExecuteTime": {
     "end_time": "2021-03-21T02:35:30.312153Z",
     "start_time": "2021-03-21T02:35:30.289162Z"
    }
   },
   "outputs": [
    {
     "data": {
      "text/html": [
       "<div>\n",
       "<style scoped>\n",
       "    .dataframe tbody tr th:only-of-type {\n",
       "        vertical-align: middle;\n",
       "    }\n",
       "\n",
       "    .dataframe tbody tr th {\n",
       "        vertical-align: top;\n",
       "    }\n",
       "\n",
       "    .dataframe thead th {\n",
       "        text-align: right;\n",
       "    }\n",
       "</style>\n",
       "<table border=\"1\" class=\"dataframe\">\n",
       "  <thead>\n",
       "    <tr style=\"text-align: right;\">\n",
       "      <th></th>\n",
       "      <th>not bought</th>\n",
       "      <th>bought</th>\n",
       "      <th>freq</th>\n",
       "    </tr>\n",
       "    <tr>\n",
       "      <th>Discount</th>\n",
       "      <th></th>\n",
       "      <th></th>\n",
       "      <th></th>\n",
       "    </tr>\n",
       "  </thead>\n",
       "  <tbody>\n",
       "    <tr>\n",
       "      <th>0</th>\n",
       "      <td>2.138866e+09</td>\n",
       "      <td>66133555.0</td>\n",
       "      <td>2.999254</td>\n",
       "    </tr>\n",
       "    <tr>\n",
       "      <th>10</th>\n",
       "      <td>6.169347e+06</td>\n",
       "      <td>260393.0</td>\n",
       "      <td>4.049822</td>\n",
       "    </tr>\n",
       "    <tr>\n",
       "      <th>15</th>\n",
       "      <td>6.126476e+06</td>\n",
       "      <td>298190.0</td>\n",
       "      <td>4.641331</td>\n",
       "    </tr>\n",
       "    <tr>\n",
       "      <th>20</th>\n",
       "      <td>6.087241e+06</td>\n",
       "      <td>338179.0</td>\n",
       "      <td>5.263142</td>\n",
       "    </tr>\n",
       "    <tr>\n",
       "      <th>25</th>\n",
       "      <td>6.048858e+06</td>\n",
       "      <td>382758.0</td>\n",
       "      <td>5.951195</td>\n",
       "    </tr>\n",
       "    <tr>\n",
       "      <th>30</th>\n",
       "      <td>5.999362e+06</td>\n",
       "      <td>428452.0</td>\n",
       "      <td>6.665594</td>\n",
       "    </tr>\n",
       "    <tr>\n",
       "      <th>35</th>\n",
       "      <td>5.954477e+06</td>\n",
       "      <td>474719.0</td>\n",
       "      <td>7.383800</td>\n",
       "    </tr>\n",
       "    <tr>\n",
       "      <th>40</th>\n",
       "      <td>5.906196e+06</td>\n",
       "      <td>525352.0</td>\n",
       "      <td>8.168360</td>\n",
       "    </tr>\n",
       "  </tbody>\n",
       "</table>\n",
       "</div>"
      ],
      "text/plain": [
       "            not bought      bought      freq\n",
       "Discount                                    \n",
       "0         2.138866e+09  66133555.0  2.999254\n",
       "10        6.169347e+06    260393.0  4.049822\n",
       "15        6.126476e+06    298190.0  4.641331\n",
       "20        6.087241e+06    338179.0  5.263142\n",
       "25        6.048858e+06    382758.0  5.951195\n",
       "30        5.999362e+06    428452.0  6.665594\n",
       "35        5.954477e+06    474719.0  7.383800\n",
       "40        5.906196e+06    525352.0  8.168360"
      ]
     },
     "execution_count": 5,
     "metadata": {},
     "output_type": "execute_result"
    }
   ],
   "source": [
    "crosstab = pd.read_csv(\"data/crosstable_by_discount.csv\", names=[\"not bought\", \"bought\"])\n",
    "crosstab.index = [0, 10, 15, 20, 25, 30, 35, 40]\n",
    "crosstab.index.rename(\"Discount\", inplace=True)\n",
    "crosstab[\"freq\"] = crosstab[\"bought\"] / (crosstab[\"bought\"] + crosstab[\"not bought\"])\n",
    "crosstab[\"freq\"] *= 100\n",
    "crosstab"
   ]
  },
  {
   "cell_type": "code",
   "execution_count": 6,
   "metadata": {
    "ExecuteTime": {
     "end_time": "2021-03-21T02:35:32.595829Z",
     "start_time": "2021-03-21T02:35:32.266809Z"
    },
    "scrolled": true
   },
   "outputs": [
    {
     "data": {
      "image/png": "[encoded data removed]",
      "text/plain": [
       "<Figure size 432x288 with 1 Axes>"
      ]
     },
     "metadata": {
      "needs_background": "light"
     },
     "output_type": "display_data"
    }
   ],
   "source": [
    "crosstab[[\"not bought\", \"bought\"]] = crosstab[[\"not bought\", \"bought\"]].astype(\"int\")\n",
    "crosstab.freq.plot.bar()\n",
    "plt.ylabel(\"% Purchase\\nFrequency\", rotation=0, ha=\"right\")\n",
    "plt.xticks(rotation=0)\n",
    "plt.xlabel(\"% Discount\")\n",
    "plt.tight_layout()\n",
    "plt.savefig(\"freq_by_coupon.png\");"
   ]
  },
  {
   "cell_type": "markdown",
   "metadata": {},
   "source": [
    "# Construct Naive Benchmark"
   ]
  },
  {
   "cell_type": "code",
   "execution_count": 7,
   "metadata": {
    "ExecuteTime": {
     "end_time": "2021-03-21T02:35:37.055245Z",
     "start_time": "2021-03-21T02:35:37.042256Z"
    }
   },
   "outputs": [],
   "source": [
    "class Naive():\n",
    "    def __init__(self):\n",
    "        self.crosstab = pd.read_csv(\"data/crosstable_by_discount.csv\", names=[\"not bought\", \"bought\"])\n",
    "        self.crosstab.index = [0, 10, 15, 20, 25, 30, 35, 40]\n",
    "        self.crosstab.index.rename(\"Discount\", inplace=True)\n",
    "        self.crosstab[\"freq\"] = self.crosstab[\"bought\"] / (self.crosstab[\"bought\"] + self.crosstab[\"not bought\"])\n",
    "        \n",
    "    def predict(self, df):\n",
    "        out = self.crosstab[\"freq\"].loc[df.discount].reset_index().drop(columns=\"Discount\").rename(columns={\"freq\": \"pred\"})\n",
    "        return out\n",
    "    "
   ]
  },
  {
   "cell_type": "markdown",
   "metadata": {},
   "source": [
    "\n",
    "# Validate"
   ]
  },
  {
   "cell_type": "code",
   "execution_count": 8,
   "metadata": {
    "ExecuteTime": {
     "end_time": "2021-03-21T02:35:49.254353Z",
     "start_time": "2021-03-21T02:35:37.722343Z"
    }
   },
   "outputs": [],
   "source": [
    "# Only validate on 2000 random shoppers\n",
    "shopper_ixs = np.random.choice(100000, size=2000, replace=False)\n",
    "\n",
    "baskets_filter = baskets.shopper.isin(shopper_ixs) & (baskets.week >= 80)\n",
    "coupons_filter = coupons.shopper.isin(shopper_ixs) & (coupons.week >= 80)\n",
    "\n",
    "# Merge these first to get smaller joins\n",
    "basket_coupon = baskets[baskets_filter].merge(coupons[coupons_filter], how=\"outer\")\n",
    "\n",
    "# Densify coupon and basket data\n",
    "densified_df = pd.DataFrame({\"week\": sorted(list(range(80, 90)) * 250 * 2000),\n",
    "                       \"shopper\": sorted(shopper_ixs.tolist() * 250) * 10,\n",
    "                       \"product\": list(range(250)) * 10 * 2000})\n",
    "\n",
    "densified_df[\"week\"] = densified_df[\"week\"].astype(\"uint8\")\n",
    "densified_df[\"shopper\"] = densified_df[\"shopper\"].astype(\"int32\")\n",
    "densified_df[\"product\"] = densified_df[\"product\"].astype(\"uint8\")\n",
    "\n",
    "densified_df = densified_df.merge(basket_coupon, on=[\"week\", \"shopper\", \"product\"], how=\"left\").fillna(0)\n",
    "\n",
    "densified_df[\"pred\"] = Naive().predict(densified_df)"
   ]
  },
  {
   "cell_type": "code",
   "execution_count": 9,
   "metadata": {
    "ExecuteTime": {
     "end_time": "2021-03-21T02:35:49.348343Z",
     "start_time": "2021-03-21T02:35:49.319345Z"
    }
   },
   "outputs": [
    {
     "data": {
      "text/html": [
       "<div>\n",
       "<style scoped>\n",
       "    .dataframe tbody tr th:only-of-type {\n",
       "        vertical-align: middle;\n",
       "    }\n",
       "\n",
       "    .dataframe tbody tr th {\n",
       "        vertical-align: top;\n",
       "    }\n",
       "\n",
       "    .dataframe thead th {\n",
       "        text-align: right;\n",
       "    }\n",
       "</style>\n",
       "<table border=\"1\" class=\"dataframe\">\n",
       "  <thead>\n",
       "    <tr style=\"text-align: right;\">\n",
       "      <th></th>\n",
       "      <th>week</th>\n",
       "      <th>shopper</th>\n",
       "      <th>product</th>\n",
       "      <th>price</th>\n",
       "      <th>bought</th>\n",
       "      <th>discount</th>\n",
       "      <th>coupon</th>\n",
       "      <th>pred</th>\n",
       "    </tr>\n",
       "  </thead>\n",
       "  <tbody>\n",
       "    <tr>\n",
       "      <th>0</th>\n",
       "      <td>80</td>\n",
       "      <td>32</td>\n",
       "      <td>0</td>\n",
       "      <td>0.0</td>\n",
       "      <td>0.0</td>\n",
       "      <td>0.0</td>\n",
       "      <td>0.0</td>\n",
       "      <td>0.029993</td>\n",
       "    </tr>\n",
       "    <tr>\n",
       "      <th>1</th>\n",
       "      <td>80</td>\n",
       "      <td>32</td>\n",
       "      <td>1</td>\n",
       "      <td>0.0</td>\n",
       "      <td>0.0</td>\n",
       "      <td>0.0</td>\n",
       "      <td>0.0</td>\n",
       "      <td>0.029993</td>\n",
       "    </tr>\n",
       "    <tr>\n",
       "      <th>2</th>\n",
       "      <td>80</td>\n",
       "      <td>32</td>\n",
       "      <td>2</td>\n",
       "      <td>0.0</td>\n",
       "      <td>0.0</td>\n",
       "      <td>0.0</td>\n",
       "      <td>0.0</td>\n",
       "      <td>0.029993</td>\n",
       "    </tr>\n",
       "    <tr>\n",
       "      <th>3</th>\n",
       "      <td>80</td>\n",
       "      <td>32</td>\n",
       "      <td>3</td>\n",
       "      <td>0.0</td>\n",
       "      <td>0.0</td>\n",
       "      <td>0.0</td>\n",
       "      <td>0.0</td>\n",
       "      <td>0.029993</td>\n",
       "    </tr>\n",
       "    <tr>\n",
       "      <th>4</th>\n",
       "      <td>80</td>\n",
       "      <td>32</td>\n",
       "      <td>4</td>\n",
       "      <td>0.0</td>\n",
       "      <td>0.0</td>\n",
       "      <td>0.0</td>\n",
       "      <td>0.0</td>\n",
       "      <td>0.029993</td>\n",
       "    </tr>\n",
       "    <tr>\n",
       "      <th>...</th>\n",
       "      <td>...</td>\n",
       "      <td>...</td>\n",
       "      <td>...</td>\n",
       "      <td>...</td>\n",
       "      <td>...</td>\n",
       "      <td>...</td>\n",
       "      <td>...</td>\n",
       "      <td>...</td>\n",
       "    </tr>\n",
       "    <tr>\n",
       "      <th>4999995</th>\n",
       "      <td>89</td>\n",
       "      <td>99850</td>\n",
       "      <td>245</td>\n",
       "      <td>0.0</td>\n",
       "      <td>0.0</td>\n",
       "      <td>0.0</td>\n",
       "      <td>0.0</td>\n",
       "      <td>0.029993</td>\n",
       "    </tr>\n",
       "    <tr>\n",
       "      <th>4999996</th>\n",
       "      <td>89</td>\n",
       "      <td>99850</td>\n",
       "      <td>246</td>\n",
       "      <td>0.0</td>\n",
       "      <td>0.0</td>\n",
       "      <td>0.0</td>\n",
       "      <td>0.0</td>\n",
       "      <td>0.029993</td>\n",
       "    </tr>\n",
       "    <tr>\n",
       "      <th>4999997</th>\n",
       "      <td>89</td>\n",
       "      <td>99850</td>\n",
       "      <td>247</td>\n",
       "      <td>0.0</td>\n",
       "      <td>0.0</td>\n",
       "      <td>0.0</td>\n",
       "      <td>0.0</td>\n",
       "      <td>0.029993</td>\n",
       "    </tr>\n",
       "    <tr>\n",
       "      <th>4999998</th>\n",
       "      <td>89</td>\n",
       "      <td>99850</td>\n",
       "      <td>248</td>\n",
       "      <td>0.0</td>\n",
       "      <td>0.0</td>\n",
       "      <td>0.0</td>\n",
       "      <td>0.0</td>\n",
       "      <td>0.029993</td>\n",
       "    </tr>\n",
       "    <tr>\n",
       "      <th>4999999</th>\n",
       "      <td>89</td>\n",
       "      <td>99850</td>\n",
       "      <td>249</td>\n",
       "      <td>0.0</td>\n",
       "      <td>0.0</td>\n",
       "      <td>0.0</td>\n",
       "      <td>0.0</td>\n",
       "      <td>0.029993</td>\n",
       "    </tr>\n",
       "  </tbody>\n",
       "</table>\n",
       "<p>5000000 rows × 8 columns</p>\n",
       "</div>"
      ],
      "text/plain": [
       "         week  shopper  product  price  bought  discount  coupon      pred\n",
       "0          80       32        0    0.0     0.0       0.0     0.0  0.029993\n",
       "1          80       32        1    0.0     0.0       0.0     0.0  0.029993\n",
       "2          80       32        2    0.0     0.0       0.0     0.0  0.029993\n",
       "3          80       32        3    0.0     0.0       0.0     0.0  0.029993\n",
       "4          80       32        4    0.0     0.0       0.0     0.0  0.029993\n",
       "...       ...      ...      ...    ...     ...       ...     ...       ...\n",
       "4999995    89    99850      245    0.0     0.0       0.0     0.0  0.029993\n",
       "4999996    89    99850      246    0.0     0.0       0.0     0.0  0.029993\n",
       "4999997    89    99850      247    0.0     0.0       0.0     0.0  0.029993\n",
       "4999998    89    99850      248    0.0     0.0       0.0     0.0  0.029993\n",
       "4999999    89    99850      249    0.0     0.0       0.0     0.0  0.029993\n",
       "\n",
       "[5000000 rows x 8 columns]"
      ]
     },
     "execution_count": 9,
     "metadata": {},
     "output_type": "execute_result"
    }
   ],
   "source": [
    "densified_df"
   ]
  },
  {
   "cell_type": "code",
   "execution_count": 10,
   "metadata": {
    "ExecuteTime": {
     "end_time": "2021-03-21T02:35:53.347447Z",
     "start_time": "2021-03-21T02:35:52.226448Z"
    }
   },
   "outputs": [
    {
     "data": {
      "text/plain": [
       "0.13648436786568088"
      ]
     },
     "execution_count": 10,
     "metadata": {},
     "output_type": "execute_result"
    }
   ],
   "source": [
    "log_loss(densified_df.bought, densified_df.pred)"
   ]
  },
  {
   "cell_type": "code",
   "execution_count": 11,
   "metadata": {
    "ExecuteTime": {
     "end_time": "2021-03-21T02:35:54.903123Z",
     "start_time": "2021-03-21T02:35:53.983477Z"
    }
   },
   "outputs": [
    {
     "data": {
      "text/plain": [
       "0.510146685022713"
      ]
     },
     "execution_count": 11,
     "metadata": {},
     "output_type": "execute_result"
    }
   ],
   "source": [
    "roc_auc_score(densified_df.bought, densified_df.pred)"
   ]
  },
  {
   "cell_type": "code",
   "execution_count": 12,
   "metadata": {
    "ExecuteTime": {
     "end_time": "2021-03-21T02:36:00.789491Z",
     "start_time": "2021-03-21T02:36:00.053501Z"
    }
   },
   "outputs": [
    {
     "data": {
      "text/plain": [
       "0.032278145224672296"
      ]
     },
     "execution_count": 12,
     "metadata": {},
     "output_type": "execute_result"
    }
   ],
   "source": [
    "average_precision_score(densified_df.bought, densified_df.pred)"
   ]
  },
  {
   "cell_type": "markdown",
   "metadata": {},
   "source": [
    "# Get Elasticity"
   ]
  },
  {
   "cell_type": "markdown",
   "metadata": {},
   "source": [
    "Since predictions are the same everywhere and only depend on discount, we can simply calculate own-product elasticity directly using the frequencies from the crosstable:"
   ]
  },
  {
   "cell_type": "code",
   "execution_count": 13,
   "metadata": {
    "ExecuteTime": {
     "end_time": "2021-03-21T02:36:05.853025Z",
     "start_time": "2021-03-21T02:36:05.846036Z"
    }
   },
   "outputs": [
    {
     "data": {
      "text/plain": [
       "4.074724148758981"
      ]
     },
     "execution_count": 13,
     "metadata": {},
     "output_type": "execute_result"
    }
   ],
   "source": [
    "(crosstab.loc[30, \"freq\"] - crosstab.loc[0, \"freq\"]) / (0.3 * crosstab.loc[0, \"freq\"])"
   ]
  }
 ],
 "metadata": {
  "kernelspec": {
   "display_name": "Python 3",
   "language": "python",
   "name": "python3"
  },
  "language_info": {
   "codemirror_mode": {
    "name": "ipython",
    "version": 3
   },
   "file_extension": ".py",
   "mimetype": "text/x-python",
   "name": "python",
   "nbconvert_exporter": "python",
   "pygments_lexer": "ipython3",
   "version": "3.8.2"
  },
  "toc": {
   "base_numbering": 1,
   "nav_menu": {},
   "number_sections": true,
   "sideBar": true,
   "skip_h1_title": false,
   "title_cell": "Table of Contents",
   "title_sidebar": "Contents",
   "toc_cell": false,
   "toc_position": {},
   "toc_section_display": true,
   "toc_window_display": false
  },
  "varInspector": {
   "cols": {
    "lenName": 16,
    "lenType": 16,
    "lenVar": 40
   },
   "kernels_config": {
    "python": {
     "delete_cmd_postfix": "",
     "delete_cmd_prefix": "del ",
     "library": "var_list.py",
     "varRefreshCmd": "print(var_dic_list())"
    },
    "r": {
     "delete_cmd_postfix": ") ",
     "delete_cmd_prefix": "rm(",
     "library": "var_list.r",
     "varRefreshCmd": "cat(var_dic_list()) "
    }
   },
   "types_to_exclude": [
    "module",
    "function",
    "builtin_function_or_method",
    "instance",
    "_Feature"
   ],
   "window_display": false
  }
 },
 "nbformat": 4,
 "nbformat_minor": 4
}
