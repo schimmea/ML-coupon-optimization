{
 "cells": [
  {
   "cell_type": "code",
   "execution_count": 51,
   "metadata": {
    "ExecuteTime": {
     "end_time": "2021-03-21T02:41:29.929989Z",
     "start_time": "2021-03-21T02:41:29.907989Z"
    }
   },
   "outputs": [],
   "source": [
    "import numpy as np\n",
    "import pandas as pd\n",
    "from tqdm import tqdm\n",
    "\n",
    "from sklearn.metrics import log_loss, roc_auc_score, average_precision_score\n",
    "from sklearn.linear_model import LogisticRegression\n",
    "\n",
    "from joblib import dump, load"
   ]
  },
  {
   "cell_type": "markdown",
   "metadata": {},
   "source": [
    "# Load Data"
   ]
  },
  {
   "cell_type": "markdown",
   "metadata": {},
   "source": [
    "Multi-core preprocessing that will calculate expanding purchase frequencies and rolling purchase sums per product.\n",
    "- First keyword is number of random shoppers\n",
    "- Second keyword is core count\n",
    "\n",
    "Result will be parqueted into working directory. Data for 2000 random shoppers will occupy ~180MB.\n",
    "\n",
    "Running the script in command line will display a progress bar."
   ]
  },
  {
   "cell_type": "code",
   "execution_count": 52,
   "metadata": {
    "ExecuteTime": {
     "end_time": "2021-03-21T02:41:31.875491Z",
     "start_time": "2021-03-21T02:41:31.862480Z"
    }
   },
   "outputs": [],
   "source": [
    "# !preprocess_logit_mp.py 2000 10"
   ]
  },
  {
   "cell_type": "code",
   "execution_count": 55,
   "metadata": {
    "ExecuteTime": {
     "end_time": "2021-03-21T02:51:06.547607Z",
     "start_time": "2021-03-21T02:51:04.554609Z"
    }
   },
   "outputs": [],
   "source": [
    "logitprep = pd.read_parquet(\"data/logitprep_random_2000.parquet\")"
   ]
  },
  {
   "cell_type": "code",
   "execution_count": 56,
   "metadata": {
    "ExecuteTime": {
     "end_time": "2021-03-21T02:51:07.117973Z",
     "start_time": "2021-03-21T02:51:07.094975Z"
    },
    "scrolled": true
   },
   "outputs": [
    {
     "data": {
      "text/html": [
       "<div>\n",
       "<style scoped>\n",
       "    .dataframe tbody tr th:only-of-type {\n",
       "        vertical-align: middle;\n",
       "    }\n",
       "\n",
       "    .dataframe tbody tr th {\n",
       "        vertical-align: top;\n",
       "    }\n",
       "\n",
       "    .dataframe thead th {\n",
       "        text-align: right;\n",
       "    }\n",
       "</style>\n",
       "<table border=\"1\" class=\"dataframe\">\n",
       "  <thead>\n",
       "    <tr style=\"text-align: right;\">\n",
       "      <th></th>\n",
       "      <th>week</th>\n",
       "      <th>shopper</th>\n",
       "      <th>product</th>\n",
       "      <th>bought</th>\n",
       "      <th>freqs</th>\n",
       "      <th>purchases_last_5_weeks</th>\n",
       "      <th>purchases_last_15_weeks</th>\n",
       "      <th>purchases_last_25_weeks</th>\n",
       "      <th>discount</th>\n",
       "    </tr>\n",
       "    <tr>\n",
       "      <th>index</th>\n",
       "      <th></th>\n",
       "      <th></th>\n",
       "      <th></th>\n",
       "      <th></th>\n",
       "      <th></th>\n",
       "      <th></th>\n",
       "      <th></th>\n",
       "      <th></th>\n",
       "      <th></th>\n",
       "    </tr>\n",
       "  </thead>\n",
       "  <tbody>\n",
       "    <tr>\n",
       "      <th>0</th>\n",
       "      <td>0</td>\n",
       "      <td>30</td>\n",
       "      <td>0</td>\n",
       "      <td>0</td>\n",
       "      <td>0.0</td>\n",
       "      <td>0</td>\n",
       "      <td>0</td>\n",
       "      <td>0</td>\n",
       "      <td>0</td>\n",
       "    </tr>\n",
       "    <tr>\n",
       "      <th>1</th>\n",
       "      <td>0</td>\n",
       "      <td>30</td>\n",
       "      <td>1</td>\n",
       "      <td>0</td>\n",
       "      <td>0.0</td>\n",
       "      <td>0</td>\n",
       "      <td>0</td>\n",
       "      <td>0</td>\n",
       "      <td>0</td>\n",
       "    </tr>\n",
       "    <tr>\n",
       "      <th>2</th>\n",
       "      <td>0</td>\n",
       "      <td>30</td>\n",
       "      <td>2</td>\n",
       "      <td>0</td>\n",
       "      <td>0.0</td>\n",
       "      <td>0</td>\n",
       "      <td>0</td>\n",
       "      <td>0</td>\n",
       "      <td>0</td>\n",
       "    </tr>\n",
       "    <tr>\n",
       "      <th>3</th>\n",
       "      <td>0</td>\n",
       "      <td>30</td>\n",
       "      <td>3</td>\n",
       "      <td>0</td>\n",
       "      <td>0.0</td>\n",
       "      <td>0</td>\n",
       "      <td>0</td>\n",
       "      <td>0</td>\n",
       "      <td>0</td>\n",
       "    </tr>\n",
       "    <tr>\n",
       "      <th>4</th>\n",
       "      <td>0</td>\n",
       "      <td>30</td>\n",
       "      <td>4</td>\n",
       "      <td>1</td>\n",
       "      <td>0.0</td>\n",
       "      <td>0</td>\n",
       "      <td>0</td>\n",
       "      <td>0</td>\n",
       "      <td>0</td>\n",
       "    </tr>\n",
       "  </tbody>\n",
       "</table>\n",
       "</div>"
      ],
      "text/plain": [
       "       week  shopper  product  bought  freqs  purchases_last_5_weeks  \\\n",
       "index                                                                  \n",
       "0         0       30        0       0    0.0                       0   \n",
       "1         0       30        1       0    0.0                       0   \n",
       "2         0       30        2       0    0.0                       0   \n",
       "3         0       30        3       0    0.0                       0   \n",
       "4         0       30        4       1    0.0                       0   \n",
       "\n",
       "       purchases_last_15_weeks  purchases_last_25_weeks  discount  \n",
       "index                                                              \n",
       "0                            0                        0         0  \n",
       "1                            0                        0         0  \n",
       "2                            0                        0         0  \n",
       "3                            0                        0         0  \n",
       "4                            0                        0         0  "
      ]
     },
     "execution_count": 56,
     "metadata": {},
     "output_type": "execute_result"
    }
   ],
   "source": [
    "logitprep.head()"
   ]
  },
  {
   "cell_type": "markdown",
   "metadata": {},
   "source": [
    "# Train Logistic Regression"
   ]
  },
  {
   "cell_type": "code",
   "execution_count": 8,
   "metadata": {
    "ExecuteTime": {
     "end_time": "2021-03-21T01:36:30.640451Z",
     "start_time": "2021-03-21T01:36:30.633453Z"
    },
    "tags": []
   },
   "outputs": [],
   "source": [
    "features = ['freqs','purchases_last_5_weeks','purchases_last_15_weeks','purchases_last_25_weeks', 'discount']"
   ]
  },
  {
   "cell_type": "code",
   "execution_count": 13,
   "metadata": {
    "ExecuteTime": {
     "end_time": "2021-03-21T01:37:22.387698Z",
     "start_time": "2021-03-21T01:37:19.592710Z"
    },
    "tags": []
   },
   "outputs": [],
   "source": [
    "x_train = logitprep.loc[(logitprep.week < 80), features]\n",
    "y_train = logitprep.loc[(logitprep.week < 80), \"bought\"]\n",
    "x_val = logitprep.loc[logitprep.week >= 80, features]\n",
    "y_val = logitprep.loc[logitprep.week >= 80, \"bought\"]"
   ]
  },
  {
   "cell_type": "code",
   "execution_count": 11,
   "metadata": {
    "ExecuteTime": {
     "end_time": "2021-03-21T01:37:12.524384Z",
     "start_time": "2021-03-21T01:37:12.508381Z"
    },
    "tags": []
   },
   "outputs": [],
   "source": [
    "logModel = LogisticRegression(penalty='l2',\n",
    "    tol=0.0001,\n",
    "    C=1.0,\n",
    "    fit_intercept=True,\n",
    "    random_state=69,\n",
    "    max_iter=100,\n",
    "    verbose=1,\n",
    "    solver=\"saga\")\n",
    "\n",
    "# logModel.fit(x_train, y_train);\n",
    "# dump('logModel.joblib')\n",
    "logModel = load('data/logModel.joblib')"
   ]
  },
  {
   "cell_type": "code",
   "execution_count": 14,
   "metadata": {
    "ExecuteTime": {
     "end_time": "2021-03-21T01:37:23.167278Z",
     "start_time": "2021-03-21T01:37:23.065279Z"
    }
   },
   "outputs": [],
   "source": [
    "pred = logModel.predict_proba(x_val)"
   ]
  },
  {
   "cell_type": "code",
   "execution_count": 15,
   "metadata": {
    "ExecuteTime": {
     "end_time": "2021-03-21T01:37:25.447962Z",
     "start_time": "2021-03-21T01:37:24.660962Z"
    }
   },
   "outputs": [
    {
     "data": {
      "text/plain": [
       "0.09011332066244462"
      ]
     },
     "execution_count": 15,
     "metadata": {},
     "output_type": "execute_result"
    }
   ],
   "source": [
    "log_loss(y_val, pred[:, 1])"
   ]
  },
  {
   "cell_type": "code",
   "execution_count": 16,
   "metadata": {
    "ExecuteTime": {
     "end_time": "2021-03-21T01:37:27.663946Z",
     "start_time": "2021-03-21T01:37:26.794946Z"
    }
   },
   "outputs": [
    {
     "data": {
      "text/plain": [
       "0.9411856950782126"
      ]
     },
     "execution_count": 16,
     "metadata": {},
     "output_type": "execute_result"
    }
   ],
   "source": [
    "roc_auc_score(y_val, pred[:, 1])"
   ]
  },
  {
   "cell_type": "code",
   "execution_count": 17,
   "metadata": {
    "ExecuteTime": {
     "end_time": "2021-03-21T01:37:28.638448Z",
     "start_time": "2021-03-21T01:37:28.013446Z"
    }
   },
   "outputs": [
    {
     "data": {
      "text/plain": [
       "0.44152795477836504"
      ]
     },
     "execution_count": 17,
     "metadata": {},
     "output_type": "execute_result"
    }
   ],
   "source": [
    "average_precision_score(y_val, pred[:, 1])"
   ]
  },
  {
   "cell_type": "markdown",
   "metadata": {},
   "source": [
    "---\n",
    "Get intercept and coefficients:"
   ]
  },
  {
   "cell_type": "code",
   "execution_count": 49,
   "metadata": {
    "ExecuteTime": {
     "end_time": "2021-03-21T01:43:32.625722Z",
     "start_time": "2021-03-21T01:43:32.607721Z"
    }
   },
   "outputs": [
    {
     "data": {
      "text/html": [
       "<div>\n",
       "<style scoped>\n",
       "    .dataframe tbody tr th:only-of-type {\n",
       "        vertical-align: middle;\n",
       "    }\n",
       "\n",
       "    .dataframe tbody tr th {\n",
       "        vertical-align: top;\n",
       "    }\n",
       "\n",
       "    .dataframe thead th {\n",
       "        text-align: right;\n",
       "    }\n",
       "</style>\n",
       "<table border=\"1\" class=\"dataframe\">\n",
       "  <thead>\n",
       "    <tr style=\"text-align: right;\">\n",
       "      <th></th>\n",
       "      <th>feature</th>\n",
       "      <th>coefficient</th>\n",
       "    </tr>\n",
       "  </thead>\n",
       "  <tbody>\n",
       "    <tr>\n",
       "      <th>0</th>\n",
       "      <td>intercept</td>\n",
       "      <td>-4.38685</td>\n",
       "    </tr>\n",
       "    <tr>\n",
       "      <th>1</th>\n",
       "      <td>freqs</td>\n",
       "      <td>5.38777</td>\n",
       "    </tr>\n",
       "    <tr>\n",
       "      <th>2</th>\n",
       "      <td>purchases_last_5_weeks</td>\n",
       "      <td>-0.0759897</td>\n",
       "    </tr>\n",
       "    <tr>\n",
       "      <th>3</th>\n",
       "      <td>purchases_last_15_weeks</td>\n",
       "      <td>0.0930723</td>\n",
       "    </tr>\n",
       "    <tr>\n",
       "      <th>4</th>\n",
       "      <td>purchases_last_25_weeks</td>\n",
       "      <td>0.128638</td>\n",
       "    </tr>\n",
       "    <tr>\n",
       "      <th>5</th>\n",
       "      <td>discount</td>\n",
       "      <td>0.036721</td>\n",
       "    </tr>\n",
       "  </tbody>\n",
       "</table>\n",
       "</div>"
      ],
      "text/plain": [
       "                   feature coefficient\n",
       "0                intercept    -4.38685\n",
       "1                    freqs     5.38777\n",
       "2   purchases_last_5_weeks  -0.0759897\n",
       "3  purchases_last_15_weeks   0.0930723\n",
       "4  purchases_last_25_weeks    0.128638\n",
       "5                 discount    0.036721"
      ]
     },
     "execution_count": 49,
     "metadata": {},
     "output_type": "execute_result"
    }
   ],
   "source": [
    "coef_df = pd.DataFrame(columns=[\"feature\", \"coefficient\"], index=range(len(features)+1))\n",
    "coef_df.iloc[0] = [\"intercept\", logModel.intercept_[0]]\n",
    "ix = 1\n",
    "for feat, coef in zip(features, logModel.coef_[0]):\n",
    "    coef_df.iloc[ix] = [feat, coef]\n",
    "    ix += 1\n",
    "\n",
    "coef_df"
   ]
  },
  {
   "cell_type": "markdown",
   "metadata": {},
   "source": [
    "# Calculate Elasticities"
   ]
  },
  {
   "cell_type": "code",
   "execution_count": 50,
   "metadata": {
    "ExecuteTime": {
     "end_time": "2021-03-21T01:45:13.172383Z",
     "start_time": "2021-03-21T01:44:43.258394Z"
    }
   },
   "outputs": [
    {
     "name": "stderr",
     "output_type": "stream",
     "text": [
      "100%|████████████████████████████████████████████████████████████████████████████████| 250/250 [00:29<00:00,  8.36it/s]\n"
     ]
    },
    {
     "data": {
      "text/plain": [
       "4.420810343666133"
      ]
     },
     "execution_count": 50,
     "metadata": {},
     "output_type": "execute_result"
    }
   ],
   "source": [
    "own_product = []\n",
    "\n",
    "for prod in tqdm(range(250)):\n",
    "    newtest = logitprep.loc[(logitprep.week >= 80) & (logitprep[\"product\"]==prod), features].copy()\n",
    "    newtest[\"discount\"] = 0\n",
    "    base_prob = np.mean(logModel.predict_proba(newtest)[:,1])\n",
    "    newtest[\"discount\"] = 30\n",
    "    avg_30prob = np.mean(logModel.predict_proba(newtest)[:,1])\n",
    "    own_product.append((avg_30prob - base_prob) / (0.3 * base_prob))\n",
    "\n",
    "np.mean(own_product)"
   ]
  }
 ],
 "metadata": {
  "kernelspec": {
   "display_name": "Python 3",
   "language": "python",
   "name": "python3"
  },
  "language_info": {
   "codemirror_mode": {
    "name": "ipython",
    "version": 3
   },
   "file_extension": ".py",
   "mimetype": "text/x-python",
   "name": "python",
   "nbconvert_exporter": "python",
   "pygments_lexer": "ipython3",
   "version": "3.9.6"
  },
  "toc": {
   "base_numbering": 1,
   "nav_menu": {},
   "number_sections": true,
   "sideBar": true,
   "skip_h1_title": false,
   "title_cell": "Table of Contents",
   "title_sidebar": "Contents",
   "toc_cell": false,
   "toc_position": {},
   "toc_section_display": true,
   "toc_window_display": false
  },
  "varInspector": {
   "cols": {
    "lenName": 16,
    "lenType": 16,
    "lenVar": 40
   },
   "kernels_config": {
    "python": {
     "delete_cmd_postfix": "",
     "delete_cmd_prefix": "del ",
     "library": "var_list.py",
     "varRefreshCmd": "print(var_dic_list())"
    },
    "r": {
     "delete_cmd_postfix": ") ",
     "delete_cmd_prefix": "rm(",
     "library": "var_list.r",
     "varRefreshCmd": "cat(var_dic_list()) "
    }
   },
   "position": {
    "height": "468px",
    "left": "1549px",
    "right": "20px",
    "top": "118px",
    "width": "350px"
   },
   "types_to_exclude": [
    "module",
    "function",
    "builtin_function_or_method",
    "instance",
    "_Feature"
   ],
   "window_display": false
  }
 },
 "nbformat": 4,
 "nbformat_minor": 5
}
